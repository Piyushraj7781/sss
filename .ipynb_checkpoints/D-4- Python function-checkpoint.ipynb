{
 "cells": [
  {
   "cell_type": "code",
   "execution_count": 1,
   "id": "3ded1755",
   "metadata": {},
   "outputs": [
    {
     "name": "stdout",
     "output_type": "stream",
     "text": [
      "Piyush\n"
     ]
    }
   ],
   "source": [
    "name=\"Piyush\"\n",
    "print(name)"
   ]
  },
  {
   "cell_type": "code",
   "execution_count": 2,
   "id": "8e75fb34",
   "metadata": {},
   "outputs": [
    {
     "name": "stdout",
     "output_type": "stream",
     "text": [
      "Piyush\n"
     ]
    }
   ],
   "source": [
    "# function\n",
    "def name():\n",
    "    print(\"Piyush\")\n",
    "name()"
   ]
  },
  {
   "cell_type": "code",
   "execution_count": 3,
   "id": "5631353d",
   "metadata": {},
   "outputs": [
    {
     "name": "stdout",
     "output_type": "stream",
     "text": [
      "12\n"
     ]
    }
   ],
   "source": [
    "def add():\n",
    "    a=5\n",
    "    b=7\n",
    "    sum=a+b\n",
    "    print(sum)\n",
    "    \n",
    "add()"
   ]
  },
  {
   "cell_type": "code",
   "execution_count": 6,
   "id": "387a5d79",
   "metadata": {},
   "outputs": [],
   "source": [
    "def file_create():\n",
    "    f=open(\"hello.txt\",'w')\n",
    "    f.write(\"good morning\")\n",
    "    f.close()\n",
    "file_create()"
   ]
  },
  {
   "cell_type": "code",
   "execution_count": 7,
   "id": "d2f35638",
   "metadata": {},
   "outputs": [
    {
     "name": "stdout",
     "output_type": "stream",
     "text": [
      "good morning\n"
     ]
    }
   ],
   "source": [
    "def file_create():\n",
    "    f=open(\"hello.txt\",'r')\n",
    "    print(f.read())\n",
    "file_create()"
   ]
  },
  {
   "cell_type": "code",
   "execution_count": 12,
   "id": "b9a8c146",
   "metadata": {},
   "outputs": [
    {
     "name": "stdout",
     "output_type": "stream",
     "text": [
      " hello every one, how are you? this is Piyush.\n"
     ]
    }
   ],
   "source": [
    "# arguments\n",
    "# The f before the string indicates that it's an f-string, \n",
    "# which allows you to include variables or expressions inside the string.\n",
    "def hello(name):\n",
    "    print(f' hello every one, how are you? this is {name}.' )\n",
    "    \n",
    "hello(\"Piyush\")"
   ]
  },
  {
   "cell_type": "code",
   "execution_count": 13,
   "id": "21ed6911",
   "metadata": {},
   "outputs": [
    {
     "name": "stdout",
     "output_type": "stream",
     "text": [
      "9\n"
     ]
    }
   ],
   "source": [
    "# parameter arguments\n",
    "def add(a,b):\n",
    "    print(a+b)\n",
    "add(4,5)"
   ]
  },
  {
   "cell_type": "code",
   "execution_count": 14,
   "id": "599a91d9",
   "metadata": {},
   "outputs": [
    {
     "name": "stdout",
     "output_type": "stream",
     "text": [
      "my name is Piyush and i'm 22 years old. \n"
     ]
    }
   ],
   "source": [
    "# positional arguments\n",
    "def info(name,age):\n",
    "    print(f\"my name is {name} and i'm {age} years old. \")\n",
    "info(\"Piyush\",22)"
   ]
  },
  {
   "cell_type": "code",
   "execution_count": 15,
   "id": "eb850233",
   "metadata": {},
   "outputs": [
    {
     "name": "stdout",
     "output_type": "stream",
     "text": [
      "hello pk,ck\n"
     ]
    }
   ],
   "source": [
    "# keyword arguments\n",
    "def greetings(a,b):\n",
    "    print(f\"hello {a},{b}\")\n",
    "greetings(a=\"pk\",b=\"ck\")"
   ]
  },
  {
   "cell_type": "code",
   "execution_count": 18,
   "id": "5c0ba476",
   "metadata": {},
   "outputs": [
    {
     "name": "stdout",
     "output_type": "stream",
     "text": [
      " my name is Piyush and i'm from india\n"
     ]
    }
   ],
   "source": [
    "# default arguments\n",
    "def myFunction(name,country='india'):\n",
    "    print(f\" my name is {name} and i'm from {country}\")\n",
    "myFunction(\"Piyush\")\n",
    "    "
   ]
  },
  {
   "cell_type": "code",
   "execution_count": 19,
   "id": "f565af71",
   "metadata": {},
   "outputs": [
    {
     "data": {
      "text/plain": [
       "16"
      ]
     },
     "execution_count": 19,
     "metadata": {},
     "output_type": "execute_result"
    }
   ],
   "source": [
    "# return value\n",
    "def square(a):\n",
    "    area=a*a\n",
    "    return area\n",
    "square(4)"
   ]
  },
  {
   "cell_type": "code",
   "execution_count": 26,
   "id": "43a91d2d",
   "metadata": {},
   "outputs": [
    {
     "name": "stdout",
     "output_type": "stream",
     "text": [
      "5  is odd\n"
     ]
    }
   ],
   "source": [
    "# odd & even\n",
    "def num(a):\n",
    "    if a%2==0:\n",
    "        print(a,\" is even\")\n",
    "    else :\n",
    "        print(a,\" is odd\")\n",
    "num(5)"
   ]
  },
  {
   "cell_type": "code",
   "execution_count": 27,
   "id": "41af1ce6",
   "metadata": {},
   "outputs": [
    {
     "name": "stdout",
     "output_type": "stream",
     "text": [
      "16\n"
     ]
    }
   ],
   "source": [
    "# lambda\n",
    "x=lambda a: a+10\n",
    "print(x(6))"
   ]
  },
  {
   "cell_type": "code",
   "execution_count": 28,
   "id": "7d36c2d2",
   "metadata": {},
   "outputs": [
    {
     "name": "stdout",
     "output_type": "stream",
     "text": [
      "12\n"
     ]
    }
   ],
   "source": [
    "x=lambda a,b: a*b\n",
    "print(x(3,4))"
   ]
  },
  {
   "cell_type": "code",
   "execution_count": null,
   "id": "305948f4",
   "metadata": {},
   "outputs": [],
   "source": []
  }
 ],
 "metadata": {
  "kernelspec": {
   "display_name": "Python 3 (ipykernel)",
   "language": "python",
   "name": "python3"
  },
  "language_info": {
   "codemirror_mode": {
    "name": "ipython",
    "version": 3
   },
   "file_extension": ".py",
   "mimetype": "text/x-python",
   "name": "python",
   "nbconvert_exporter": "python",
   "pygments_lexer": "ipython3",
   "version": "3.11.5"
  }
 },
 "nbformat": 4,
 "nbformat_minor": 5
}
