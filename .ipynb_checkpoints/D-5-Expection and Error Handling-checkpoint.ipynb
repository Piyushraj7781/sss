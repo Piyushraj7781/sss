{
 "cells": [
  {
   "cell_type": "code",
   "execution_count": 5,
   "id": "cac1a592",
   "metadata": {},
   "outputs": [
    {
     "name": "stdout",
     "output_type": "stream",
     "text": [
      "pk\n"
     ]
    }
   ],
   "source": [
    "if True:\n",
    "    print(x)"
   ]
  },
  {
   "cell_type": "code",
   "execution_count": 6,
   "id": "611d5b8d",
   "metadata": {},
   "outputs": [
    {
     "ename": "SyntaxError",
     "evalue": "unterminated string literal (detected at line 1) (1618501033.py, line 1)",
     "output_type": "error",
     "traceback": [
      "\u001b[1;36m  Cell \u001b[1;32mIn[6], line 1\u001b[1;36m\u001b[0m\n\u001b[1;33m    name=\"piyush\u001b[0m\n\u001b[1;37m         ^\u001b[0m\n\u001b[1;31mSyntaxError\u001b[0m\u001b[1;31m:\u001b[0m unterminated string literal (detected at line 1)\n"
     ]
    }
   ],
   "source": [
    "name=\"piyush\n",
    "#SyntaxError : unterminated string literal"
   ]
  },
  {
   "cell_type": "code",
   "execution_count": 7,
   "id": "0222e681",
   "metadata": {},
   "outputs": [
    {
     "ename": "NameError",
     "evalue": "name 'a' is not defined",
     "output_type": "error",
     "traceback": [
      "\u001b[1;31m---------------------------------------------------------------------------\u001b[0m",
      "\u001b[1;31mNameError\u001b[0m                                 Traceback (most recent call last)",
      "Cell \u001b[1;32mIn[7], line 1\u001b[0m\n\u001b[1;32m----> 1\u001b[0m \u001b[38;5;28mprint\u001b[39m(a)\n",
      "\u001b[1;31mNameError\u001b[0m: name 'a' is not defined"
     ]
    }
   ],
   "source": [
    "print(a)\n",
    "#NameError: name 'a' is not defined"
   ]
  },
  {
   "cell_type": "code",
   "execution_count": 11,
   "id": "277fe428",
   "metadata": {},
   "outputs": [
    {
     "ename": "IndentationError",
     "evalue": "expected an indented block after 'if' statement on line 1 (3980805425.py, line 2)",
     "output_type": "error",
     "traceback": [
      "\u001b[1;36m  Cell \u001b[1;32mIn[11], line 2\u001b[1;36m\u001b[0m\n\u001b[1;33m    print(\"adult\")\u001b[0m\n\u001b[1;37m    ^\u001b[0m\n\u001b[1;31mIndentationError\u001b[0m\u001b[1;31m:\u001b[0m expected an indented block after 'if' statement on line 1\n"
     ]
    }
   ],
   "source": [
    "if age>18:\n",
    "print(\"adult\")\n",
    "# IndentationError: expected an indented block after 'if'"
   ]
  },
  {
   "cell_type": "code",
   "execution_count": 12,
   "id": "534faad4",
   "metadata": {},
   "outputs": [
    {
     "ename": "ZeroDivisionError",
     "evalue": "division by zero",
     "output_type": "error",
     "traceback": [
      "\u001b[1;31m---------------------------------------------------------------------------\u001b[0m",
      "\u001b[1;31mZeroDivisionError\u001b[0m                         Traceback (most recent call last)",
      "Cell \u001b[1;32mIn[12], line 1\u001b[0m\n\u001b[1;32m----> 1\u001b[0m \u001b[38;5;241m100\u001b[39m\u001b[38;5;241m/\u001b[39m\u001b[38;5;241m0\u001b[39m\n",
      "\u001b[1;31mZeroDivisionError\u001b[0m: division by zero"
     ]
    }
   ],
   "source": [
    "100/0\n",
    "# ZeroDivisionError: division by zero"
   ]
  },
  {
   "cell_type": "code",
   "execution_count": 14,
   "id": "42e462c7",
   "metadata": {},
   "outputs": [
    {
     "name": "stdout",
     "output_type": "stream",
     "text": [
      "An exception occured\n"
     ]
    }
   ],
   "source": [
    "try :\n",
    "    print(z)\n",
    "except:\n",
    "    print(\"An exception occured\")"
   ]
  },
  {
   "cell_type": "code",
   "execution_count": 19,
   "id": "c9fde95d",
   "metadata": {},
   "outputs": [
    {
     "name": "stdout",
     "output_type": "stream",
     "text": [
      "error : denumerator can't be zero\n",
      "result :  4.0\n"
     ]
    }
   ],
   "source": [
    "try:\n",
    "    numerator=20\n",
    "    denumerator=0 # 0 pr value  --5\n",
    "    result = numerator/denumerator\n",
    "    print(result)\n",
    "except:\n",
    "    print(\"error : denumerator can't be zero\")\n",
    "    print(\"result : \",result)"
   ]
  },
  {
   "cell_type": "code",
   "execution_count": 20,
   "id": "64551a25",
   "metadata": {},
   "outputs": [
    {
     "name": "stdout",
     "output_type": "stream",
     "text": [
      "hello\n",
      "Nothing went wrong\n"
     ]
    }
   ],
   "source": [
    "try:\n",
    "    print(\"hello\")\n",
    "except:\n",
    "    print(\"Something went wrong\")\n",
    "else:\n",
    "    print(\"Nothing went wrong\")"
   ]
  },
  {
   "cell_type": "code",
   "execution_count": 21,
   "id": "4f0b98f0",
   "metadata": {},
   "outputs": [
    {
     "name": "stdout",
     "output_type": "stream",
     "text": [
      "hello\n",
      "Nothing went wrong\n"
     ]
    }
   ],
   "source": [
    "try:\n",
    "    print(\"hello\")\n",
    "except:\n",
    "    print(\"Something went wrong\")\n",
    "finally:\n",
    "    print(\"Nothing went wrong\")"
   ]
  },
  {
   "cell_type": "code",
   "execution_count": 24,
   "id": "f9a46223",
   "metadata": {},
   "outputs": [
    {
     "name": "stdout",
     "output_type": "stream",
     "text": [
      "Index out of bound\n"
     ]
    }
   ],
   "source": [
    "try:\n",
    "#     print(z)\n",
    "#     print(10/0)\n",
    "    even=[2,4,6,8]\n",
    "    print(even[4])\n",
    "except NameError:\n",
    "    print(\"error : name 'z' is not defined \")\n",
    "except ZeroDivisionError:\n",
    "    print(\"error : division by zero\")\n",
    "except IndexError:\n",
    "    print(\"error : Index out of bound\")"
   ]
  },
  {
   "cell_type": "code",
   "execution_count": 26,
   "id": "332fc640",
   "metadata": {},
   "outputs": [
    {
     "name": "stdout",
     "output_type": "stream",
     "text": [
      "4.0\n",
      "Nothing is wrong\n"
     ]
    }
   ],
   "source": [
    "# else block\n",
    "try:\n",
    "    print(20/5)\n",
    "except:\n",
    "    print(\"error : division by zero\")\n",
    "else:\n",
    "    print(\"Nothing is wrong\")"
   ]
  },
  {
   "cell_type": "code",
   "execution_count": 27,
   "id": "7baf96c6",
   "metadata": {},
   "outputs": [
    {
     "name": "stdout",
     "output_type": "stream",
     "text": [
      "Piyush\n",
      "finally is executed\n"
     ]
    }
   ],
   "source": [
    "try:\n",
    "    s=\"Piyush\"\n",
    "except NameError:\n",
    "    print(\"error : name 's' is not defined \")\n",
    "except ZeroDivisionError:\n",
    "    print(\"error : division by zero\")\n",
    "finally:\n",
    "    print(s)\n",
    "    print(\"finally is executed\")"
   ]
  },
  {
   "cell_type": "code",
   "execution_count": null,
   "id": "710f1e53",
   "metadata": {},
   "outputs": [],
   "source": []
  }
 ],
 "metadata": {
  "kernelspec": {
   "display_name": "Python 3 (ipykernel)",
   "language": "python",
   "name": "python3"
  },
  "language_info": {
   "codemirror_mode": {
    "name": "ipython",
    "version": 3
   },
   "file_extension": ".py",
   "mimetype": "text/x-python",
   "name": "python",
   "nbconvert_exporter": "python",
   "pygments_lexer": "ipython3",
   "version": "3.11.5"
  }
 },
 "nbformat": 4,
 "nbformat_minor": 5
}
