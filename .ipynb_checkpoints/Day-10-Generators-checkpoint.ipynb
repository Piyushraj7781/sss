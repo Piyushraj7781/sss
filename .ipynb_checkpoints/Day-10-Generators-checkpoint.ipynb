{
 "cells": [
  {
   "cell_type": "code",
   "execution_count": 9,
   "id": "5e07c3bf",
   "metadata": {},
   "outputs": [],
   "source": [
    "def mygenerator():\n",
    "    yield 1\n",
    "    yield 2\n",
    "    yield 3\n",
    "    \n",
    "g=mygenerator()\n",
    "# for i in g:\n",
    "#     print(i)"
   ]
  },
  {
   "cell_type": "code",
   "execution_count": 10,
   "id": "221534ec",
   "metadata": {},
   "outputs": [
    {
     "name": "stdout",
     "output_type": "stream",
     "text": [
      "1\n"
     ]
    }
   ],
   "source": [
    "value = next(g)\n",
    "print(value)\n"
   ]
  },
  {
   "cell_type": "code",
   "execution_count": 11,
   "id": "7c6cc82b",
   "metadata": {},
   "outputs": [
    {
     "name": "stdout",
     "output_type": "stream",
     "text": [
      "2\n"
     ]
    }
   ],
   "source": [
    "value = next(g)\n",
    "print(value)"
   ]
  },
  {
   "cell_type": "code",
   "execution_count": 1,
   "id": "5b26d557",
   "metadata": {},
   "outputs": [
    {
     "name": "stdout",
     "output_type": "stream",
     "text": [
      "Starting \n",
      "5\n"
     ]
    }
   ],
   "source": [
    "def countdown(num):\n",
    "    print(\"Starting \")\n",
    "    while num>0:\n",
    "        yield num\n",
    "        num-=1\n",
    "cd=countdown(5)\n",
    "values=next(cd)\n",
    "print(values)\n",
    "\n"
   ]
  },
  {
   "cell_type": "code",
   "execution_count": 2,
   "id": "5845d94d",
   "metadata": {},
   "outputs": [
    {
     "name": "stdout",
     "output_type": "stream",
     "text": [
      "4\n"
     ]
    }
   ],
   "source": [
    "print(next(cd))"
   ]
  },
  {
   "cell_type": "code",
   "execution_count": 3,
   "id": "ef158cce",
   "metadata": {},
   "outputs": [
    {
     "name": "stdout",
     "output_type": "stream",
     "text": [
      "[0, 1, 2, 3, 4]\n"
     ]
    }
   ],
   "source": [
    "def fristn(n):\n",
    "    nums=[]\n",
    "    num=0\n",
    "    while num<n:\n",
    "        nums.append(num)\n",
    "        num+=1\n",
    "    return nums\n",
    "print(fristn(5))"
   ]
  },
  {
   "cell_type": "code",
   "execution_count": 8,
   "id": "2fa2ee8e",
   "metadata": {},
   "outputs": [
    {
     "name": "stdout",
     "output_type": "stream",
     "text": [
      "200\n"
     ]
    }
   ],
   "source": [
    "import sys\n",
    "def fristn_generator(n):\n",
    "    num=0\n",
    "    while num<n:\n",
    "        yield num\n",
    "        num+=1\n",
    "        \n",
    "# print(sum(fristn_generator(5)))\n",
    "# print(max(fristn_generator(5)))\n",
    "print(sys.getsizeof(fristn_generator(5)))"
   ]
  },
  {
   "cell_type": "code",
   "execution_count": 11,
   "id": "1499c529",
   "metadata": {},
   "outputs": [
    {
     "name": "stdout",
     "output_type": "stream",
     "text": [
      "208\n",
      "56\n"
     ]
    }
   ],
   "source": [
    "import sys\n",
    "mygenerator=(i for i in range(10) if i%2==0)\n",
    "print(sys.getsizeof(mygenerator))\n",
    "\n",
    "mylist=[]\n",
    "print(sys.getsizeof(mylist))"
   ]
  },
  {
   "cell_type": "code",
   "execution_count": null,
   "id": "1ebb1b87",
   "metadata": {},
   "outputs": [],
   "source": []
  }
 ],
 "metadata": {
  "kernelspec": {
   "display_name": "Python 3 (ipykernel)",
   "language": "python",
   "name": "python3"
  },
  "language_info": {
   "codemirror_mode": {
    "name": "ipython",
    "version": 3
   },
   "file_extension": ".py",
   "mimetype": "text/x-python",
   "name": "python",
   "nbconvert_exporter": "python",
   "pygments_lexer": "ipython3",
   "version": "3.11.5"
  }
 },
 "nbformat": 4,
 "nbformat_minor": 5
}
