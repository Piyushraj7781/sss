{
 "cells": [
  {
   "cell_type": "code",
   "execution_count": null,
   "id": "d7845a53",
   "metadata": {},
   "outputs": [],
   "source": [
    "# Conditional & Looping"
   ]
  },
  {
   "cell_type": "code",
   "execution_count": 1,
   "id": "16f30177",
   "metadata": {},
   "outputs": [
    {
     "name": "stdout",
     "output_type": "stream",
     "text": [
      "30  is greater than  20\n"
     ]
    }
   ],
   "source": [
    "# if \n",
    "a=30\n",
    "b=20\n",
    "if a>b:\n",
    "    print(a,' is greater than ',b)"
   ]
  },
  {
   "cell_type": "code",
   "execution_count": 4,
   "id": "5fcf79ce",
   "metadata": {},
   "outputs": [
    {
     "name": "stdout",
     "output_type": "stream",
     "text": [
      "850  is greater than  150\n"
     ]
    }
   ],
   "source": [
    "# if-else statement\n",
    "a=150\n",
    "b=850\n",
    "if a>b :\n",
    "    print(a,' is greater than ',b)\n",
    "else :\n",
    "    print(b,' is greater than ',a)"
   ]
  },
  {
   "cell_type": "code",
   "execution_count": 11,
   "id": "788db6ec",
   "metadata": {},
   "outputs": [
    {
     "name": "stdout",
     "output_type": "stream",
     "text": [
      "You are senior citizon\n"
     ]
    }
   ],
   "source": [
    "# if-elif-else statement\n",
    "age=65\n",
    "if age>=18 and age<60 :\n",
    "    print(\"you are adult\")\n",
    "elif age>=60 :\n",
    "    print(\"You are senior citizon\")\n",
    "else:\n",
    "    print(\"Son, you are not an adult yet\")"
   ]
  },
  {
   "cell_type": "code",
   "execution_count": 12,
   "id": "a9eafba6",
   "metadata": {},
   "outputs": [
    {
     "name": "stdout",
     "output_type": "stream",
     "text": [
      "Enter your name : Piyush Kumar\n",
      "Piyush Kumar\n"
     ]
    }
   ],
   "source": [
    "# input from user\n",
    "name=input(\"Enter your name : \")\n",
    "print(name)"
   ]
  },
  {
   "cell_type": "code",
   "execution_count": 13,
   "id": "af1eb78b",
   "metadata": {},
   "outputs": [
    {
     "name": "stdout",
     "output_type": "stream",
     "text": [
      "enter frist number :22\n",
      "enter second number :23\n",
      "45\n"
     ]
    }
   ],
   "source": [
    "num1=int(input(\"enter frist number :\"))\n",
    "num2=int(input(\"enter second number :\"))\n",
    "sum=num1+num2\n",
    "print(sum)"
   ]
  },
  {
   "cell_type": "code",
   "execution_count": 14,
   "id": "9ddd4af2",
   "metadata": {},
   "outputs": [
    {
     "name": "stdout",
     "output_type": "stream",
     "text": [
      "enter number :-1\n",
      "negative number\n"
     ]
    }
   ],
   "source": [
    "num=int(input(\"enter number :\"))\n",
    "if num>0:\n",
    "    print(\"positive number\")\n",
    "else:\n",
    "    print(\"negative number\")"
   ]
  },
  {
   "cell_type": "code",
   "execution_count": 15,
   "id": "03723e8c",
   "metadata": {},
   "outputs": [
    {
     "name": "stdout",
     "output_type": "stream",
     "text": [
      "above ten\n",
      "greater than 10 and less than 20\n"
     ]
    }
   ],
   "source": [
    "# nested if\n",
    "x=15\n",
    "if x>10:\n",
    "    print(\"above ten\")\n",
    "    if x>20:\n",
    "        print(\"and also above 20\")\n",
    "    else:\n",
    "        print(\"greater than 10 and less than 20\")"
   ]
  },
  {
   "cell_type": "code",
   "execution_count": 16,
   "id": "c8c5e184",
   "metadata": {},
   "outputs": [],
   "source": [
    "# pass statement\n",
    "a=30\n",
    "b=100\n",
    "if b>a:\n",
    "    pass"
   ]
  },
  {
   "cell_type": "code",
   "execution_count": null,
   "id": "c879305e",
   "metadata": {},
   "outputs": [],
   "source": [
    "# looping\n",
    "# 1.for loop\n",
    "# 2.while loop"
   ]
  },
  {
   "cell_type": "code",
   "execution_count": 18,
   "id": "78e472a3",
   "metadata": {},
   "outputs": [
    {
     "name": "stdout",
     "output_type": "stream",
     "text": [
      "lion\n",
      "tiger\n",
      "bear\n",
      "elephant\n"
     ]
    }
   ],
   "source": [
    "# for loop\n",
    "animal=['lion','tiger','bear','elephant']\n",
    "for x in animal:\n",
    "    print(x)"
   ]
  },
  {
   "cell_type": "code",
   "execution_count": 22,
   "id": "7efa3e93",
   "metadata": {},
   "outputs": [
    {
     "name": "stdout",
     "output_type": "stream",
     "text": [
      "0\n",
      "1\n",
      "2\n",
      "3\n",
      "4\n",
      "done\n",
      "5\n",
      "6\n",
      "7\n",
      "8\n",
      "9\n",
      "done\n",
      "2\n",
      "5\n",
      "8\n",
      "11\n",
      "14\n",
      "17\n"
     ]
    }
   ],
   "source": [
    "# range\n",
    "\n",
    "for i in range(5):\n",
    "    print(i)\n",
    "print(\"done\")\n",
    "for x in range(5,10):\n",
    "    print(x)\n",
    "print(\"done\")\n",
    "for y in range(2,19,3):\n",
    "    print(y)"
   ]
  },
  {
   "cell_type": "code",
   "execution_count": 26,
   "id": "e0f37349",
   "metadata": {},
   "outputs": [
    {
     "name": "stdout",
     "output_type": "stream",
     "text": [
      "lion\n",
      "tiger\n"
     ]
    }
   ],
   "source": [
    "# break\n",
    "\n",
    "animal=['lion','tiger','bear','elephant']\n",
    "for x in animal:\n",
    "    if x=='bear':\n",
    "        break\n",
    "    print(x)"
   ]
  },
  {
   "cell_type": "code",
   "execution_count": 27,
   "id": "f9f8913b",
   "metadata": {},
   "outputs": [
    {
     "name": "stdout",
     "output_type": "stream",
     "text": [
      "lion\n",
      "tiger\n",
      "elephant\n"
     ]
    }
   ],
   "source": [
    "# continue\n",
    "\n",
    "animal=['lion','tiger','bear','elephant']\n",
    "for x in animal:\n",
    "    if x=='bear':\n",
    "        continue\n",
    "    print(x)"
   ]
  },
  {
   "cell_type": "code",
   "execution_count": 28,
   "id": "a9f58996",
   "metadata": {},
   "outputs": [
    {
     "name": "stdout",
     "output_type": "stream",
     "text": [
      "1\n",
      "2\n",
      "3\n",
      "4\n"
     ]
    }
   ],
   "source": [
    "# while loop\n",
    "\n",
    "x=1\n",
    "while x<5:\n",
    "    print(x)\n",
    "    x+=1"
   ]
  },
  {
   "cell_type": "code",
   "execution_count": 30,
   "id": "2020eb9c",
   "metadata": {},
   "outputs": [
    {
     "name": "stdout",
     "output_type": "stream",
     "text": [
      "1\n",
      "2\n",
      "3\n"
     ]
    }
   ],
   "source": [
    "x=1\n",
    "while x<5:\n",
    "    print(x)\n",
    "    if x==3:\n",
    "        break\n",
    "    x+=1"
   ]
  },
  {
   "cell_type": "code",
   "execution_count": 39,
   "id": "12378822",
   "metadata": {},
   "outputs": [
    {
     "name": "stdout",
     "output_type": "stream",
     "text": [
      "1\n",
      "2\n",
      "4\n",
      "5\n",
      "6\n",
      "7\n",
      "8\n",
      "9\n",
      "10\n"
     ]
    }
   ],
   "source": [
    "x=0\n",
    "while x<10:\n",
    "    x+=1\n",
    "    if x==3:\n",
    "        continue\n",
    "    print(x)\n",
    "    "
   ]
  },
  {
   "cell_type": "code",
   "execution_count": 40,
   "id": "c7c2ef24",
   "metadata": {},
   "outputs": [
    {
     "name": "stdout",
     "output_type": "stream",
     "text": [
      "1\n",
      "2\n",
      "3\n",
      "4\n",
      "5\n",
      "6\n",
      "7\n",
      "8\n",
      "9\n",
      "x is no longer than 10\n"
     ]
    }
   ],
   "source": [
    "x=1\n",
    "while x<10:\n",
    "    print(x)\n",
    "    x+=1\n",
    "else:\n",
    "    print(\"x is no longer than 10\")"
   ]
  },
  {
   "cell_type": "code",
   "execution_count": null,
   "id": "ee202579",
   "metadata": {},
   "outputs": [],
   "source": []
  }
 ],
 "metadata": {
  "kernelspec": {
   "display_name": "Python 3 (ipykernel)",
   "language": "python",
   "name": "python3"
  },
  "language_info": {
   "codemirror_mode": {
    "name": "ipython",
    "version": 3
   },
   "file_extension": ".py",
   "mimetype": "text/x-python",
   "name": "python",
   "nbconvert_exporter": "python",
   "pygments_lexer": "ipython3",
   "version": "3.11.5"
  }
 },
 "nbformat": 4,
 "nbformat_minor": 5
}
